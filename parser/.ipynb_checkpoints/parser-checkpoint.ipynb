{
 "cells": [
  {
   "cell_type": "code",
   "execution_count": 2,
   "metadata": {},
   "outputs": [],
   "source": [
    "import json"
   ]
  },
  {
   "cell_type": "code",
   "execution_count": 3,
   "metadata": {},
   "outputs": [],
   "source": [
    "# fileName = './sample.json'\n",
    "fileName = './../crawler/data/confluence/2018-06-09T21-39-16.json'\n",
    "data = json.load(open(fileName))"
   ]
  },
  {
   "cell_type": "code",
   "execution_count": 5,
   "metadata": {},
   "outputs": [
    {
     "data": {
      "text/plain": [
       "{'ancestors': [{'id': '131895457', 'title': 'Mastercard Intelligence (MCI)'}],\n",
       " 'content': '<p style=\"text-align: right;\"><a class=\"aui-button create-from-template-button conf-macro output-inline\" data-space-key=\"MCG\" href=\"https://confluence.predictivetechnologies.com?createDialogSpaceKey=MCG&amp;createDialogBlueprintId=525deebf-dbb2-493d-a406-54d9ca5b0ff0\" data-content-blueprint-id=\"525deebf-dbb2-493d-a406-54d9ca5b0ff0\" data-hasbody=\"false\" data-macro-name=\"create-from-template\">Add Product requirements</a></p><hr/><p><div class=\"table-wrap conf-macro output-block\" data-hasbody=\"false\" data-macro-name=\"detailssummary\"><table class=\"aui metadata-summary-macro requirements\" data-cql=\"label = &quot;requirements&quot; and space = currentSpace()\" data-details-id=\"1\" data-first-column-heading=\"Title\" data-count-comments=\"false\" data-count-likes=\"false\" data-total-pages=\"2\" data-page-size=\"30\" data-sort-by=\"null\" data-reverse-sort=\"false\" data-blueprint-present=\"false\" data-analytics-key=\"requirements\"><caption>Generating page properties report...</caption><thead> </thead><tbody> </tbody></table></div></p>',\n",
       " 'labels': [],\n",
       " 'pageId': '136572033',\n",
       " 'pageTitle': 'Product requirements'}"
      ]
     },
     "execution_count": 5,
     "metadata": {},
     "output_type": "execute_result"
    }
   ],
   "source": [
    "data[0]"
   ]
  },
  {
   "cell_type": "code",
   "execution_count": 6,
   "metadata": {},
   "outputs": [
    {
     "ename": "KeyError",
     "evalue": "'parentPageId'",
     "output_type": "error",
     "traceback": [
      "\u001b[1;31m---------------------------------------------------------------------------\u001b[0m",
      "\u001b[1;31mKeyError\u001b[0m                                  Traceback (most recent call last)",
      "\u001b[1;32m<ipython-input-6-0e35f70795f9>\u001b[0m in \u001b[0;36m<module>\u001b[1;34m()\u001b[0m\n\u001b[0;32m      2\u001b[0m \u001b[1;32mfor\u001b[0m \u001b[0mdatum\u001b[0m \u001b[1;32min\u001b[0m \u001b[0mdata\u001b[0m\u001b[1;33m:\u001b[0m\u001b[1;33m\u001b[0m\u001b[0m\n\u001b[0;32m      3\u001b[0m     \u001b[0mcurrentPageId\u001b[0m \u001b[1;33m=\u001b[0m \u001b[0mdatum\u001b[0m\u001b[1;33m[\u001b[0m\u001b[1;34m'pageId'\u001b[0m\u001b[1;33m]\u001b[0m\u001b[1;33m\u001b[0m\u001b[0m\n\u001b[1;32m----> 4\u001b[1;33m     \u001b[0mparentPages\u001b[0m \u001b[1;33m=\u001b[0m \u001b[0mdatum\u001b[0m\u001b[1;33m[\u001b[0m\u001b[1;34m'parentPageId'\u001b[0m\u001b[1;33m]\u001b[0m\u001b[1;33m\u001b[0m\u001b[0m\n\u001b[0m\u001b[0;32m      5\u001b[0m     \u001b[1;32mif\u001b[0m \u001b[1;33m(\u001b[0m\u001b[0mlen\u001b[0m\u001b[1;33m(\u001b[0m\u001b[0mparentPages\u001b[0m\u001b[1;33m)\u001b[0m \u001b[1;33m>\u001b[0m \u001b[1;36m1\u001b[0m\u001b[1;33m)\u001b[0m\u001b[1;33m:\u001b[0m\u001b[1;33m\u001b[0m\u001b[0m\n\u001b[0;32m      6\u001b[0m         \u001b[0mrootPageId\u001b[0m \u001b[1;33m=\u001b[0m \u001b[0mparentPages\u001b[0m\u001b[1;33m[\u001b[0m\u001b[1;36m1\u001b[0m\u001b[1;33m]\u001b[0m\u001b[1;33m[\u001b[0m\u001b[1;34m'id'\u001b[0m\u001b[1;33m]\u001b[0m\u001b[1;33m\u001b[0m\u001b[0m\n",
      "\u001b[1;31mKeyError\u001b[0m: 'parentPageId'"
     ]
    }
   ],
   "source": [
    "ancestorMapping = {};\n",
    "for datum in data:\n",
    "    currentPageId = datum['pageId']\n",
    "    ancestorPages = datum['ancestors']\n",
    "    if (len(parentPages) > 1):\n",
    "        rootPageId = ancestorPages[1]['id']\n",
    "        rootPageTitle = ancestorPages[1]['title']\n",
    "        ancestorMapping[currentPageId] = rootPageId\n",
    "    \n",
    "parentPageMapping"
   ]
  }
 ],
 "metadata": {
  "kernelspec": {
   "display_name": "Python 3",
   "language": "python",
   "name": "python3"
  },
  "language_info": {
   "codemirror_mode": {
    "name": "ipython",
    "version": 3
   },
   "file_extension": ".py",
   "mimetype": "text/x-python",
   "name": "python",
   "nbconvert_exporter": "python",
   "pygments_lexer": "ipython3",
   "version": "3.6.4"
  }
 },
 "nbformat": 4,
 "nbformat_minor": 2
}
